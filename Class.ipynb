{
 "cells": [
  {
   "cell_type": "code",
   "execution_count": 44,
   "metadata": {},
   "outputs": [],
   "source": [
    "class Person:\n",
    "    def __init__(self, name, age):\n",
    "        self.name = name\n",
    "        self.age = age\n",
    "    \n",
    "    def getName(self):\n",
    "        print('This person name is ' + self.name)\n",
    "    \n",
    "    def getAge(self):\n",
    "        print('This person age is ' + str(self.age))\n",
    "        \n",
    "    def getNameAndAge(self):\n",
    "        txt = '{name} age is {age}'\n",
    "        print(txt.format(name=self.name,age=self.age))\n",
    "        \n",
    "\n",
    "class GreetingPerson:\n",
    "    def __init__(self,name):\n",
    "        Person.__init__(self,name,14)\n",
    "    \n",
    "    \n",
    "    def sayHi(self):\n",
    "        print('Hi ' + self.name)"
   ]
  },
  {
   "cell_type": "code",
   "execution_count": 45,
   "metadata": {},
   "outputs": [
    {
     "name": "stdout",
     "output_type": "stream",
     "text": [
      "This person name is Alper\n",
      "This person name is Tahir\n",
      "This person age is 14\n",
      "Hi Riyad\n"
     ]
    }
   ],
   "source": [
    "\n",
    "alper = Person('Alper', 13)\n",
    "alper.getName()\n",
    "tahir = Person('Tahir', 14)\n",
    "tahir.getName()\n",
    "tahir.getAge()\n",
    "\n",
    "sayHiRiyad = GreetingPerson('Riyad')\n",
    "sayHiRiyad.sayHi()"
   ]
  },
  {
   "cell_type": "code",
   "execution_count": 36,
   "metadata": {},
   "outputs": [],
   "source": [
    "class Rectangle:\n",
    "    def __init__(self,x1,y1,x2,y2):\n",
    "        if x1<x2 and y1>y2:\n",
    "            self.x1 = x1\n",
    "            self.x2 = x2\n",
    "            self.y1 = y1\n",
    "            self.y2 = y2\n",
    "        else:\n",
    "            print('This is not correct coordinats for rectangle')\n",
    "            \n",
    "    def perimeter(self):\n",
    "        width = self.y1-self.y2\n",
    "        legth = self.x2-self.x1\n",
    "        print(2*(width+legth))\n",
    "    \n",
    "    def area(self):\n",
    "        width = self.y1-self.y2\n",
    "        legth = self.x2-self.x1\n",
    "        print(width*legth)\n",
    "        \n"
   ]
  },
  {
   "cell_type": "code",
   "execution_count": 37,
   "metadata": {},
   "outputs": [
    {
     "name": "stdout",
     "output_type": "stream",
     "text": [
      "18\n",
      "18\n"
     ]
    }
   ],
   "source": [
    "rec = Rectangle(2,7,8,4)\n",
    "rec.perimeter()\n",
    "rec.area()"
   ]
  },
  {
   "cell_type": "code",
   "execution_count": 52,
   "metadata": {},
   "outputs": [],
   "source": [
    "class Animal:\n",
    "    def __init__(self,name,age,food,sound,type):\n",
    "        self.name = name\n",
    "        self.age = age\n",
    "        self.food = food\n",
    "        self.sound = sound\n",
    "        self.type = type\n",
    "\n",
    "class WildAnimal:\n",
    "    def __init__(self,name,age,food,sound):\n",
    "        Animal.__init__(self,name,age,food,sound,'wild')\n",
    "    \n",
    "    def getFood(self):\n",
    "        print('the food is ' + self.food)\n",
    "        \n",
    "\n",
    "class HowLongLive:\n",
    "    def __init__(self,name,age,food,sound,howLong):\n",
    "        self.howLong = howLong\n",
    "        WildAnimal.__init__(self,name,age,food,sound)\n",
    "        \n",
    "    def live(self):\n",
    "        print(int(self.howLong) - int(self.age))"
   ]
  },
  {
   "cell_type": "code",
   "execution_count": 49,
   "metadata": {},
   "outputs": [
    {
     "name": "stdout",
     "output_type": "stream",
     "text": [
      "the food isMeat\n"
     ]
    }
   ],
   "source": [
    "lion = WildAnimal('Lion',12,'Meat','Arr')\n",
    "lion.getFood()"
   ]
  },
  {
   "cell_type": "code",
   "execution_count": 53,
   "metadata": {},
   "outputs": [],
   "source": [
    "tiger = HowLongLive('Tiger',5,'Meat','Myaurr', 10)"
   ]
  },
  {
   "cell_type": "code",
   "execution_count": 54,
   "metadata": {},
   "outputs": [
    {
     "name": "stdout",
     "output_type": "stream",
     "text": [
      "5\n"
     ]
    }
   ],
   "source": [
    "tiger.live()"
   ]
  },
  {
   "cell_type": "code",
   "execution_count": null,
   "metadata": {},
   "outputs": [],
   "source": []
  }
 ],
 "metadata": {
  "kernelspec": {
   "display_name": "Python 3",
   "language": "python",
   "name": "python3"
  },
  "language_info": {
   "codemirror_mode": {
    "name": "ipython",
    "version": 3
   },
   "file_extension": ".py",
   "mimetype": "text/x-python",
   "name": "python",
   "nbconvert_exporter": "python",
   "pygments_lexer": "ipython3",
   "version": "3.8.5"
  }
 },
 "nbformat": 4,
 "nbformat_minor": 4
}
